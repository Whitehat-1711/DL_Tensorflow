{
  "nbformat": 4,
  "nbformat_minor": 0,
  "metadata": {
    "colab": {
      "provenance": [],
      "gpuType": "T4",
      "authorship_tag": "ABX9TyPJhYgQaRB17+NJn1l2+yeM",
      "include_colab_link": true
    },
    "kernelspec": {
      "name": "python3",
      "display_name": "Python 3"
    },
    "language_info": {
      "name": "python"
    },
    "accelerator": "GPU"
  },
  "cells": [
    {
      "cell_type": "markdown",
      "metadata": {
        "id": "view-in-github",
        "colab_type": "text"
      },
      "source": [
        "<a href=\"https://colab.research.google.com/github/Whitehat-1711/DL_Tensorflow/blob/main/00_tensorflow_fundamentals.ipynb\" target=\"_parent\"><img src=\"https://colab.research.google.com/assets/colab-badge.svg\" alt=\"Open In Colab\"/></a>"
      ]
    },
    {
      "cell_type": "markdown",
      "source": [
        "# In this course I am going to learn how to use tensorflow from very basic level\n",
        "Topics covered are:\n",
        "* Intro to tensors   \n",
        "* manipulating tensors\n",
        "* Tensors n Numpy\n",
        "* Using tf.fit()\n",
        "* Using GPU's with TF (or TPU)\n",
        "\n",
        "\n",
        "\n"
      ],
      "metadata": {
        "id": "95d8x4jQ5EUi"
      }
    },
    {
      "cell_type": "markdown",
      "source": [
        "##Intro to tensors"
      ],
      "metadata": {
        "id": "O24LW1E07AE-"
      }
    },
    {
      "cell_type": "code",
      "source": [
        "# Import Tensorflow\n",
        "import tensorflow as tf\n",
        "print(tf.__version__)"
      ],
      "metadata": {
        "colab": {
          "base_uri": "https://localhost:8080/"
        },
        "id": "xoICVS4m7Suz",
        "outputId": "91c4f875-9279-43e5-f73d-a9f2a982637c"
      },
      "execution_count": null,
      "outputs": [
        {
          "output_type": "stream",
          "name": "stdout",
          "text": [
            "2.15.0\n"
          ]
        }
      ]
    },
    {
      "cell_type": "code",
      "source": [
        "# Creating tensors with tf.constant()\n",
        "scalar = tf.constant(7)\n",
        "scalar"
      ],
      "metadata": {
        "colab": {
          "base_uri": "https://localhost:8080/"
        },
        "id": "ODN-d7TD7pri",
        "outputId": "106e24b8-bc00-4795-d050-5c040e06fbd3"
      },
      "execution_count": null,
      "outputs": [
        {
          "output_type": "execute_result",
          "data": {
            "text/plain": [
              "<tf.Tensor: shape=(), dtype=int32, numpy=7>"
            ]
          },
          "metadata": {},
          "execution_count": 5
        }
      ]
    },
    {
      "cell_type": "code",
      "source": [
        "#check the number of dimensions of a tensor (ndim stands for number of dimensions)\n",
        "scalar.ndim"
      ],
      "metadata": {
        "colab": {
          "base_uri": "https://localhost:8080/"
        },
        "id": "777w4bWs8zwD",
        "outputId": "cefb4dfd-ef3e-43d2-b461-860b8f9ee6db"
      },
      "execution_count": null,
      "outputs": [
        {
          "output_type": "execute_result",
          "data": {
            "text/plain": [
              "0"
            ]
          },
          "metadata": {},
          "execution_count": 6
        }
      ]
    },
    {
      "cell_type": "code",
      "source": [
        "#create a vector\n",
        "vector = tf.constant([10,10])\n",
        "vector"
      ],
      "metadata": {
        "colab": {
          "base_uri": "https://localhost:8080/"
        },
        "id": "nra2V-4-9Bqf",
        "outputId": "4bb36dcd-769d-47f5-cbc0-b0158e7b1e6b"
      },
      "execution_count": null,
      "outputs": [
        {
          "output_type": "execute_result",
          "data": {
            "text/plain": [
              "<tf.Tensor: shape=(2,), dtype=int32, numpy=array([10, 10], dtype=int32)>"
            ]
          },
          "metadata": {},
          "execution_count": 7
        }
      ]
    },
    {
      "cell_type": "code",
      "source": [
        "vector.ndim\n"
      ],
      "metadata": {
        "colab": {
          "base_uri": "https://localhost:8080/"
        },
        "id": "ttgqXUjeFOTM",
        "outputId": "da966a11-ca32-40d7-e1e7-d194abfa3233"
      },
      "execution_count": null,
      "outputs": [
        {
          "output_type": "execute_result",
          "data": {
            "text/plain": [
              "1"
            ]
          },
          "metadata": {},
          "execution_count": 8
        }
      ]
    },
    {
      "cell_type": "code",
      "source": [
        "matrix = tf.constant([[10,7],\n",
        "                      [7,10]])\n",
        "matrix"
      ],
      "metadata": {
        "colab": {
          "base_uri": "https://localhost:8080/"
        },
        "id": "3cgn284JGX5a",
        "outputId": "16f4e859-20e2-4fa5-c0e4-741e25ddddb8"
      },
      "execution_count": null,
      "outputs": [
        {
          "output_type": "execute_result",
          "data": {
            "text/plain": [
              "<tf.Tensor: shape=(2, 2), dtype=int32, numpy=\n",
              "array([[10,  7],\n",
              "       [ 7, 10]], dtype=int32)>"
            ]
          },
          "metadata": {},
          "execution_count": 9
        }
      ]
    },
    {
      "cell_type": "code",
      "source": [
        "matrix.ndim"
      ],
      "metadata": {
        "colab": {
          "base_uri": "https://localhost:8080/"
        },
        "id": "9fD4ivoxHVG9",
        "outputId": "3d3519fe-77d6-401c-f20c-c5b84ad1a804"
      },
      "execution_count": null,
      "outputs": [
        {
          "output_type": "execute_result",
          "data": {
            "text/plain": [
              "2"
            ]
          },
          "metadata": {},
          "execution_count": 10
        }
      ]
    },
    {
      "cell_type": "code",
      "source": [
        "\n",
        "another_matrix = tf.constant([[10., 7.],\n",
        "                              [2., 9.],\n",
        "                              [3.,4.]], dtype=tf.float16)\n",
        "another_matrix"
      ],
      "metadata": {
        "colab": {
          "base_uri": "https://localhost:8080/"
        },
        "id": "9j3vRXJGHc5U",
        "outputId": "b5dfc470-4267-49ff-fc12-f534b7efb932"
      },
      "execution_count": null,
      "outputs": [
        {
          "output_type": "execute_result",
          "data": {
            "text/plain": [
              "<tf.Tensor: shape=(3, 2), dtype=float16, numpy=\n",
              "array([[10.,  7.],\n",
              "       [ 2.,  9.],\n",
              "       [ 3.,  4.]], dtype=float16)>"
            ]
          },
          "metadata": {},
          "execution_count": 11
        }
      ]
    },
    {
      "cell_type": "code",
      "source": [
        "another_matrix.ndim"
      ],
      "metadata": {
        "colab": {
          "base_uri": "https://localhost:8080/"
        },
        "id": "CKsl9HFQLOOe",
        "outputId": "c938ce77-b9bf-44b3-e804-85657e2d4aec"
      },
      "execution_count": null,
      "outputs": [
        {
          "output_type": "execute_result",
          "data": {
            "text/plain": [
              "2"
            ]
          },
          "metadata": {},
          "execution_count": 12
        }
      ]
    },
    {
      "cell_type": "code",
      "source": [
        " # Let's create a tensor\n",
        " tensor = tf.constant([[[1,2,3],\n",
        "                        [4,5,6]],\n",
        "                       [[7,8,9],\n",
        "                        [10,11,12]],\n",
        "                       [[13,14,15],\n",
        "                        [16,17,18]]])\n",
        " tensor"
      ],
      "metadata": {
        "colab": {
          "base_uri": "https://localhost:8080/"
        },
        "id": "uHZiPIDvIgGS",
        "outputId": "0951ee0d-3135-4bbd-99ff-a74bdb7658e6"
      },
      "execution_count": null,
      "outputs": [
        {
          "output_type": "execute_result",
          "data": {
            "text/plain": [
              "<tf.Tensor: shape=(3, 2, 3), dtype=int32, numpy=\n",
              "array([[[ 1,  2,  3],\n",
              "        [ 4,  5,  6]],\n",
              "\n",
              "       [[ 7,  8,  9],\n",
              "        [10, 11, 12]],\n",
              "\n",
              "       [[13, 14, 15],\n",
              "        [16, 17, 18]]], dtype=int32)>"
            ]
          },
          "metadata": {},
          "execution_count": 13
        }
      ]
    },
    {
      "cell_type": "code",
      "source": [
        "tensor.ndim"
      ],
      "metadata": {
        "colab": {
          "base_uri": "https://localhost:8080/"
        },
        "id": "8SDYUjg-MY5M",
        "outputId": "73d16b50-699c-45bd-9496-5cdb837fa8e0"
      },
      "execution_count": null,
      "outputs": [
        {
          "output_type": "execute_result",
          "data": {
            "text/plain": [
              "3"
            ]
          },
          "metadata": {},
          "execution_count": 14
        }
      ]
    },
    {
      "cell_type": "markdown",
      "source": [
        "What we've done so far:\n",
        "\n",
        "* Scalar: a single number.\n",
        "* Vector: a number with direction\n",
        "* Matrix: a 2-dimensional array of numbers\n",
        "* Tensor: a n-dim array of numbers"
      ],
      "metadata": {
        "id": "ZnO0v4obOp4E"
      }
    },
    {
      "cell_type": "markdown",
      "source": [
        "###Creating tensors with tf.Variable"
      ],
      "metadata": {
        "id": "fBpkkO2WPpNT"
      }
    },
    {
      "cell_type": "code",
      "source": [
        "changable_tensor = tf.Variable([10,7])\n",
        "unchangable_tensor = tf.constant([10,7])\n",
        "changable_tensor, unchangable_tensor"
      ],
      "metadata": {
        "colab": {
          "base_uri": "https://localhost:8080/"
        },
        "id": "hHq8lm6BQAs0",
        "outputId": "e0793b60-ca3e-439e-c557-1add3c3ed993"
      },
      "execution_count": null,
      "outputs": [
        {
          "output_type": "execute_result",
          "data": {
            "text/plain": [
              "(<tf.Variable 'Variable:0' shape=(2,) dtype=int32, numpy=array([10,  7], dtype=int32)>,\n",
              " <tf.Tensor: shape=(2,), dtype=int32, numpy=array([10,  7], dtype=int32)>)"
            ]
          },
          "metadata": {},
          "execution_count": 15
        }
      ]
    },
    {
      "cell_type": "code",
      "source": [
        "#Let's try to change one of the elements in our changable tensor\n",
        "#changable_tensor[0] = 7\n",
        "#changable_tensor"
      ],
      "metadata": {
        "id": "m2M7fL7IQl1D"
      },
      "execution_count": null,
      "outputs": []
    },
    {
      "cell_type": "code",
      "source": [
        "changable_tensor[0].assign(7)\n",
        "changable_tensor"
      ],
      "metadata": {
        "colab": {
          "base_uri": "https://localhost:8080/"
        },
        "id": "vMInNnoDReXz",
        "outputId": "a3d2dc1c-e955-43f9-c23d-504dd290eb66"
      },
      "execution_count": null,
      "outputs": [
        {
          "output_type": "execute_result",
          "data": {
            "text/plain": [
              "<tf.Variable 'Variable:0' shape=(2,) dtype=int32, numpy=array([7, 7], dtype=int32)>"
            ]
          },
          "metadata": {},
          "execution_count": 17
        }
      ]
    },
    {
      "cell_type": "markdown",
      "source": [
        "### Creating Random Tensors\n",
        "Random tensors are tensors of some arbitary size which contains random numbers."
      ],
      "metadata": {
        "id": "56sPhtLdS-oj"
      }
    },
    {
      "cell_type": "code",
      "source": [
        "#create two random (but same) tensors\n",
        "random_1 = tf.random.Generator.from_seed(42) #set seed for reproducibility\n",
        "random_1 = random_1.normal(shape = (3,2))\n",
        "random_2 = tf.random.Generator.from_seed(42)\n",
        "random_2 = random_2.normal(shape = (3,2))\n",
        "random_1, random_2, random_1==random_2"
      ],
      "metadata": {
        "colab": {
          "base_uri": "https://localhost:8080/"
        },
        "id": "eryDcyvLT5Hb",
        "outputId": "5274819f-e69d-4f24-e2d3-7b187549c2a5"
      },
      "execution_count": null,
      "outputs": [
        {
          "output_type": "execute_result",
          "data": {
            "text/plain": [
              "(<tf.Tensor: shape=(3, 2), dtype=float32, numpy=\n",
              " array([[-0.7565803 , -0.06854702],\n",
              "        [ 0.07595026, -1.2573844 ],\n",
              "        [-0.23193765, -1.8107855 ]], dtype=float32)>,\n",
              " <tf.Tensor: shape=(3, 2), dtype=float32, numpy=\n",
              " array([[-0.7565803 , -0.06854702],\n",
              "        [ 0.07595026, -1.2573844 ],\n",
              "        [-0.23193765, -1.8107855 ]], dtype=float32)>,\n",
              " <tf.Tensor: shape=(3, 2), dtype=bool, numpy=\n",
              " array([[ True,  True],\n",
              "        [ True,  True],\n",
              "        [ True,  True]])>)"
            ]
          },
          "metadata": {},
          "execution_count": 18
        }
      ]
    },
    {
      "cell_type": "markdown",
      "source": [
        "# Schuffle the order of elements in a tensor"
      ],
      "metadata": {
        "id": "UVY50-6XVsSr"
      }
    },
    {
      "cell_type": "code",
      "source": [
        "#schuffle the order of tensor (Can be used when I want to shuffle my data so the inherent order dosen't affect me)\n",
        "not_shuffled = tf.constant([[10,7],\n",
        "                            [3,4],\n",
        "                            [2,5]])\n",
        "#shuffle our tensor\n",
        "tf.random.shuffle(not_shuffled)"
      ],
      "metadata": {
        "colab": {
          "base_uri": "https://localhost:8080/"
        },
        "id": "yoPwWApKTxfI",
        "outputId": "a05ef565-2518-42cb-c0b6-ee1345b97608"
      },
      "execution_count": null,
      "outputs": [
        {
          "output_type": "execute_result",
          "data": {
            "text/plain": [
              "<tf.Tensor: shape=(3, 2), dtype=int32, numpy=\n",
              "array([[ 3,  4],\n",
              "       [10,  7],\n",
              "       [ 2,  5]], dtype=int32)>"
            ]
          },
          "metadata": {},
          "execution_count": 19
        }
      ]
    },
    {
      "cell_type": "code",
      "source": [
        "tf.random.set_seed(42)\n",
        "tf.random.shuffle(not_shuffled)"
      ],
      "metadata": {
        "colab": {
          "base_uri": "https://localhost:8080/"
        },
        "id": "Z_vSbmNMbtyw",
        "outputId": "9d71098d-4b0e-4490-9193-f525afc721bd"
      },
      "execution_count": null,
      "outputs": [
        {
          "output_type": "execute_result",
          "data": {
            "text/plain": [
              "<tf.Tensor: shape=(3, 2), dtype=int32, numpy=\n",
              "array([[ 3,  4],\n",
              "       [ 2,  5],\n",
              "       [10,  7]], dtype=int32)>"
            ]
          },
          "metadata": {},
          "execution_count": 20
        }
      ]
    },
    {
      "cell_type": "markdown",
      "source": [
        "🛠️ **EXERCISE** : Read through Tensorflow documentation on random seed generator:\n",
        "https://www.tensorflow.org/api_docs/python/tf/random/set_seed\n",
        "and practice writing 5 tensors and shuffling them.\n",
        "\n",
        "It looks like if we want our shuffled tensors to be in same order, we have to use global level as well as operational level random seeds:\n",
        "\n",
        "> Rule 4:If both the global and the operation seed are set: Both seeds are used in conjunction to determine the random sequence.\n"
      ],
      "metadata": {
        "id": "ys5J8EEdfWyu"
      }
    },
    {
      "cell_type": "code",
      "source": [
        "tnsr_1 = tf.constant([[52, 11, 44],\n",
        "                      [25, 66, 23],\n",
        "                      [98, 87, 88],\n",
        "                      [131,22,55],\n",
        "                      [1092, 939, 828]])\n",
        "print(tnsr_1)\n",
        "tf.random.set_seed(23)\n",
        "tf.random.shuffle(tnsr_1)\n"
      ],
      "metadata": {
        "colab": {
          "base_uri": "https://localhost:8080/"
        },
        "id": "hRLDVjw1X5Wd",
        "outputId": "81f67c4a-c609-4a5a-aa65-5522c76685c1"
      },
      "execution_count": null,
      "outputs": [
        {
          "output_type": "stream",
          "name": "stdout",
          "text": [
            "tf.Tensor(\n",
            "[[  52   11   44]\n",
            " [  25   66   23]\n",
            " [  98   87   88]\n",
            " [ 131   22   55]\n",
            " [1092  939  828]], shape=(5, 3), dtype=int32)\n"
          ]
        },
        {
          "output_type": "execute_result",
          "data": {
            "text/plain": [
              "<tf.Tensor: shape=(5, 3), dtype=int32, numpy=\n",
              "array([[  98,   87,   88],\n",
              "       [  52,   11,   44],\n",
              "       [  25,   66,   23],\n",
              "       [1092,  939,  828],\n",
              "       [ 131,   22,   55]], dtype=int32)>"
            ]
          },
          "metadata": {},
          "execution_count": 21
        }
      ]
    },
    {
      "cell_type": "markdown",
      "source": [
        "### Other ways to make tensors"
      ],
      "metadata": {
        "id": "4fHSWoIsbPmE"
      }
    },
    {
      "cell_type": "code",
      "source": [
        "tf.ones([10,7])"
      ],
      "metadata": {
        "colab": {
          "base_uri": "https://localhost:8080/"
        },
        "id": "60hcHrUkD2HF",
        "outputId": "fb50090f-60ea-4e46-fc75-7d9a3ac3d7cc"
      },
      "execution_count": null,
      "outputs": [
        {
          "output_type": "execute_result",
          "data": {
            "text/plain": [
              "<tf.Tensor: shape=(10, 7), dtype=float32, numpy=\n",
              "array([[1., 1., 1., 1., 1., 1., 1.],\n",
              "       [1., 1., 1., 1., 1., 1., 1.],\n",
              "       [1., 1., 1., 1., 1., 1., 1.],\n",
              "       [1., 1., 1., 1., 1., 1., 1.],\n",
              "       [1., 1., 1., 1., 1., 1., 1.],\n",
              "       [1., 1., 1., 1., 1., 1., 1.],\n",
              "       [1., 1., 1., 1., 1., 1., 1.],\n",
              "       [1., 1., 1., 1., 1., 1., 1.],\n",
              "       [1., 1., 1., 1., 1., 1., 1.],\n",
              "       [1., 1., 1., 1., 1., 1., 1.]], dtype=float32)>"
            ]
          },
          "metadata": {},
          "execution_count": 22
        }
      ]
    },
    {
      "cell_type": "code",
      "source": [
        "tf.zeros(shape = (3, 4))"
      ],
      "metadata": {
        "colab": {
          "base_uri": "https://localhost:8080/"
        },
        "id": "jWuCzOpFEH-5",
        "outputId": "3f7e948f-1fd7-41e7-b51b-d1feb1d208eb"
      },
      "execution_count": null,
      "outputs": [
        {
          "output_type": "execute_result",
          "data": {
            "text/plain": [
              "<tf.Tensor: shape=(3, 4), dtype=float32, numpy=\n",
              "array([[0., 0., 0., 0.],\n",
              "       [0., 0., 0., 0.],\n",
              "       [0., 0., 0., 0.]], dtype=float32)>"
            ]
          },
          "metadata": {},
          "execution_count": 23
        }
      ]
    },
    {
      "cell_type": "markdown",
      "source": [
        "###Turn Numpy arrays into tensors\n",
        "\n",
        "The main difference between NumPy arrays and TensorFlow tensors is that tensors can be run on a GPU (much faster for numberical calculations)."
      ],
      "metadata": {
        "id": "NeLXwUUYESkW"
      }
    },
    {
      "cell_type": "code",
      "source": [
        "import numpy as np\n",
        "numpy_A = np.arange(1,25, dtype = np.int32)\n",
        "# X = tf.constant(some_matrix) #capital for matrix or tensor\n",
        "# y = tf.constant(vector) #non-capital for vector"
      ],
      "metadata": {
        "id": "3cnyLI--EscZ"
      },
      "execution_count": null,
      "outputs": []
    },
    {
      "cell_type": "code",
      "source": [
        "A = tf.constant(numpy_A, shape= (2,3,4))\n",
        "B = tf.constant(numpy_A)\n",
        "A, B"
      ],
      "metadata": {
        "colab": {
          "base_uri": "https://localhost:8080/"
        },
        "id": "0si60yPIFXLC",
        "outputId": "2137f0e9-f905-4153-b642-e2cebb8db18f"
      },
      "execution_count": null,
      "outputs": [
        {
          "output_type": "execute_result",
          "data": {
            "text/plain": [
              "(<tf.Tensor: shape=(2, 3, 4), dtype=int32, numpy=\n",
              " array([[[ 1,  2,  3,  4],\n",
              "         [ 5,  6,  7,  8],\n",
              "         [ 9, 10, 11, 12]],\n",
              " \n",
              "        [[13, 14, 15, 16],\n",
              "         [17, 18, 19, 20],\n",
              "         [21, 22, 23, 24]]], dtype=int32)>,\n",
              " <tf.Tensor: shape=(24,), dtype=int32, numpy=\n",
              " array([ 1,  2,  3,  4,  5,  6,  7,  8,  9, 10, 11, 12, 13, 14, 15, 16, 17,\n",
              "        18, 19, 20, 21, 22, 23, 24], dtype=int32)>)"
            ]
          },
          "metadata": {},
          "execution_count": 25
        }
      ]
    },
    {
      "cell_type": "code",
      "source": [
        "#practice block\n",
        "arr1 = np.arange(1,101, dtype = np.int32)\n",
        "ten_1 = tf.constant(arr1, shape =(25,4))\n",
        "tf.random.shuffle(ten_1), ten_1.ndim"
      ],
      "metadata": {
        "colab": {
          "base_uri": "https://localhost:8080/"
        },
        "id": "LeTQ-7iRHv7H",
        "outputId": "d245ac98-121d-4068-def3-33e67ebbeea2"
      },
      "execution_count": null,
      "outputs": [
        {
          "output_type": "execute_result",
          "data": {
            "text/plain": [
              "(<tf.Tensor: shape=(25, 4), dtype=int32, numpy=\n",
              " array([[ 13,  14,  15,  16],\n",
              "        [ 69,  70,  71,  72],\n",
              "        [  9,  10,  11,  12],\n",
              "        [ 57,  58,  59,  60],\n",
              "        [ 85,  86,  87,  88],\n",
              "        [ 49,  50,  51,  52],\n",
              "        [ 33,  34,  35,  36],\n",
              "        [ 73,  74,  75,  76],\n",
              "        [  5,   6,   7,   8],\n",
              "        [ 37,  38,  39,  40],\n",
              "        [ 61,  62,  63,  64],\n",
              "        [ 17,  18,  19,  20],\n",
              "        [  1,   2,   3,   4],\n",
              "        [ 29,  30,  31,  32],\n",
              "        [ 65,  66,  67,  68],\n",
              "        [ 93,  94,  95,  96],\n",
              "        [ 21,  22,  23,  24],\n",
              "        [ 97,  98,  99, 100],\n",
              "        [ 81,  82,  83,  84],\n",
              "        [ 25,  26,  27,  28],\n",
              "        [ 53,  54,  55,  56],\n",
              "        [ 77,  78,  79,  80],\n",
              "        [ 89,  90,  91,  92],\n",
              "        [ 41,  42,  43,  44],\n",
              "        [ 45,  46,  47,  48]], dtype=int32)>,\n",
              " 2)"
            ]
          },
          "metadata": {},
          "execution_count": 26
        }
      ]
    },
    {
      "cell_type": "markdown",
      "source": [
        "### Getting informations from tensors\n",
        "\n",
        "* Shape\n",
        "* Rank\n",
        "* Axis or dimension\n",
        "* Size"
      ],
      "metadata": {
        "id": "KDkHTCH-Faim"
      }
    },
    {
      "cell_type": "code",
      "source": [
        "# Creating a rank 4 tensor\n",
        "rank_4_tensor = tf.zeros([2,3,4,5])\n",
        "rank_4_tensor, rank_4_tensor.ndim"
      ],
      "metadata": {
        "colab": {
          "base_uri": "https://localhost:8080/"
        },
        "id": "_V37lqkFRnZw",
        "outputId": "ae8d4da5-6c19-4184-c1a2-64043eae94d4"
      },
      "execution_count": null,
      "outputs": [
        {
          "output_type": "execute_result",
          "data": {
            "text/plain": [
              "(<tf.Tensor: shape=(2, 3, 4, 5), dtype=float32, numpy=\n",
              " array([[[[0., 0., 0., 0., 0.],\n",
              "          [0., 0., 0., 0., 0.],\n",
              "          [0., 0., 0., 0., 0.],\n",
              "          [0., 0., 0., 0., 0.]],\n",
              " \n",
              "         [[0., 0., 0., 0., 0.],\n",
              "          [0., 0., 0., 0., 0.],\n",
              "          [0., 0., 0., 0., 0.],\n",
              "          [0., 0., 0., 0., 0.]],\n",
              " \n",
              "         [[0., 0., 0., 0., 0.],\n",
              "          [0., 0., 0., 0., 0.],\n",
              "          [0., 0., 0., 0., 0.],\n",
              "          [0., 0., 0., 0., 0.]]],\n",
              " \n",
              " \n",
              "        [[[0., 0., 0., 0., 0.],\n",
              "          [0., 0., 0., 0., 0.],\n",
              "          [0., 0., 0., 0., 0.],\n",
              "          [0., 0., 0., 0., 0.]],\n",
              " \n",
              "         [[0., 0., 0., 0., 0.],\n",
              "          [0., 0., 0., 0., 0.],\n",
              "          [0., 0., 0., 0., 0.],\n",
              "          [0., 0., 0., 0., 0.]],\n",
              " \n",
              "         [[0., 0., 0., 0., 0.],\n",
              "          [0., 0., 0., 0., 0.],\n",
              "          [0., 0., 0., 0., 0.],\n",
              "          [0., 0., 0., 0., 0.]]]], dtype=float32)>,\n",
              " 4)"
            ]
          },
          "metadata": {},
          "execution_count": 27
        }
      ]
    },
    {
      "cell_type": "code",
      "source": [
        "rank_4_tensor.shape, rank_4_tensor.ndim, tf.size(rank_4_tensor)"
      ],
      "metadata": {
        "colab": {
          "base_uri": "https://localhost:8080/"
        },
        "id": "4pksfu33dXSV",
        "outputId": "55bd6b62-6b75-4f8d-8628-fc321447b5fa"
      },
      "execution_count": null,
      "outputs": [
        {
          "output_type": "execute_result",
          "data": {
            "text/plain": [
              "(TensorShape([2, 3, 4, 5]), 4, <tf.Tensor: shape=(), dtype=int32, numpy=120>)"
            ]
          },
          "metadata": {},
          "execution_count": 28
        }
      ]
    },
    {
      "cell_type": "code",
      "source": [
        "#Get various attributes of our tensor\n",
        "print(\"Datatype of every element\", rank_4_tensor.dtype)\n",
        "print(\"Number of dimensions (rank):\", rank_4_tensor.ndim)\n",
        "print(\"The shape of the tensor is\", rank_4_tensor.shape)\n",
        "print(\"Elements along the 0 axis is:\",rank_4_tensor.shape[0])\n",
        "print(\"Element along the last axis is:\", rank_4_tensor.shape[-1])"
      ],
      "metadata": {
        "colab": {
          "base_uri": "https://localhost:8080/"
        },
        "id": "cdpbyuKdhG8Q",
        "outputId": "63bdf976-25c9-48b3-dc26-c9336d37437a"
      },
      "execution_count": null,
      "outputs": [
        {
          "output_type": "stream",
          "name": "stdout",
          "text": [
            "Datatype of every element <dtype: 'float32'>\n",
            "Number of dimensions (rank): 4\n",
            "The shape of the tensor is (2, 3, 4, 5)\n",
            "Elements along the 0 axis is: 2\n",
            "Element along the last axis is: 5\n"
          ]
        }
      ]
    },
    {
      "cell_type": "markdown",
      "source": [
        "### Indexing tensors\n",
        "Tensors can be indexed just like python course"
      ],
      "metadata": {
        "id": "5HPbk7g7iRYx"
      }
    },
    {
      "cell_type": "code",
      "source": [
        "list = [1,2,3,4,5,6,7,8,9]\n",
        "list[2:-2]"
      ],
      "metadata": {
        "colab": {
          "base_uri": "https://localhost:8080/"
        },
        "id": "_vQdlYlgQiSG",
        "outputId": "40754db5-5405-4bd6-e2e4-5a5c1906ea4c"
      },
      "execution_count": null,
      "outputs": [
        {
          "output_type": "execute_result",
          "data": {
            "text/plain": [
              "[3, 4, 5, 6, 7]"
            ]
          },
          "metadata": {},
          "execution_count": 30
        }
      ]
    },
    {
      "cell_type": "code",
      "source": [
        "list[:1]"
      ],
      "metadata": {
        "colab": {
          "base_uri": "https://localhost:8080/"
        },
        "id": "Dy7duQmLTfoS",
        "outputId": "edd5e393-caf6-416a-d16b-cb5671014e17"
      },
      "execution_count": null,
      "outputs": [
        {
          "output_type": "execute_result",
          "data": {
            "text/plain": [
              "[1]"
            ]
          },
          "metadata": {},
          "execution_count": 31
        }
      ]
    },
    {
      "cell_type": "code",
      "source": [
        "rank_4_tensor[:2, :2, :2, :2]"
      ],
      "metadata": {
        "colab": {
          "base_uri": "https://localhost:8080/"
        },
        "id": "764q1souOnqA",
        "outputId": "34f35951-1f6c-4785-8573-d26145dae914"
      },
      "execution_count": null,
      "outputs": [
        {
          "output_type": "execute_result",
          "data": {
            "text/plain": [
              "<tf.Tensor: shape=(2, 2, 2, 2), dtype=float32, numpy=\n",
              "array([[[[0., 0.],\n",
              "         [0., 0.]],\n",
              "\n",
              "        [[0., 0.],\n",
              "         [0., 0.]]],\n",
              "\n",
              "\n",
              "       [[[0., 0.],\n",
              "         [0., 0.]],\n",
              "\n",
              "        [[0., 0.],\n",
              "         [0., 0.]]]], dtype=float32)>"
            ]
          },
          "metadata": {},
          "execution_count": 32
        }
      ]
    },
    {
      "cell_type": "code",
      "source": [
        "# Get the first elements from each dimension from each index except for the final one\n",
        "rank_4_tensor[:1, :1, :1, :]"
      ],
      "metadata": {
        "colab": {
          "base_uri": "https://localhost:8080/"
        },
        "id": "rC8ZGhpRQZCx",
        "outputId": "17c22e71-04dc-4396-e0ee-d01f58dd80d5"
      },
      "execution_count": null,
      "outputs": [
        {
          "output_type": "execute_result",
          "data": {
            "text/plain": [
              "<tf.Tensor: shape=(1, 1, 1, 5), dtype=float32, numpy=array([[[[0., 0., 0., 0., 0.]]]], dtype=float32)>"
            ]
          },
          "metadata": {},
          "execution_count": 33
        }
      ]
    },
    {
      "cell_type": "code",
      "source": [
        "# Create a rank 2 tensor (2 dimension)\n",
        "rank_2_tensor = tf.constant([[10, 7],\n",
        "                            [3, 4]])\n",
        "rank_2_tensor"
      ],
      "metadata": {
        "colab": {
          "base_uri": "https://localhost:8080/"
        },
        "id": "YQ42Kx1BTElQ",
        "outputId": "9a916379-6ceb-4181-9789-1f5d3e366761"
      },
      "execution_count": null,
      "outputs": [
        {
          "output_type": "execute_result",
          "data": {
            "text/plain": [
              "<tf.Tensor: shape=(2, 2), dtype=int32, numpy=\n",
              "array([[10,  7],\n",
              "       [ 3,  4]], dtype=int32)>"
            ]
          },
          "metadata": {},
          "execution_count": 34
        }
      ]
    },
    {
      "cell_type": "code",
      "source": [
        "#Getting last item of rank 2 tensor\n",
        "rank_2_tensor[:,-1]"
      ],
      "metadata": {
        "colab": {
          "base_uri": "https://localhost:8080/"
        },
        "id": "mmyaODKsU-uX",
        "outputId": "b9dcd011-e4b5-4d35-874c-a6a0156f6f06"
      },
      "execution_count": null,
      "outputs": [
        {
          "output_type": "execute_result",
          "data": {
            "text/plain": [
              "<tf.Tensor: shape=(2,), dtype=int32, numpy=array([7, 4], dtype=int32)>"
            ]
          },
          "metadata": {},
          "execution_count": 35
        }
      ]
    },
    {
      "cell_type": "code",
      "source": [
        "#Adding an extra axis to our rank 2 tensor\n",
        "rank_3_tensor = rank_2_tensor[..., tf.newaxis]\n",
        "rank_3_tensor"
      ],
      "metadata": {
        "colab": {
          "base_uri": "https://localhost:8080/"
        },
        "id": "k7SgDMU2lKA0",
        "outputId": "46e580ed-7c3c-45c6-f9f3-b864ff874852"
      },
      "execution_count": null,
      "outputs": [
        {
          "output_type": "execute_result",
          "data": {
            "text/plain": [
              "<tf.Tensor: shape=(2, 2, 1), dtype=int32, numpy=\n",
              "array([[[10],\n",
              "        [ 7]],\n",
              "\n",
              "       [[ 3],\n",
              "        [ 4]]], dtype=int32)>"
            ]
          },
          "metadata": {},
          "execution_count": 36
        }
      ]
    },
    {
      "cell_type": "code",
      "source": [
        "#Another way to increase the dimension\n",
        "tf.expand_dims(rank_2_tensor, axis=-1)"
      ],
      "metadata": {
        "colab": {
          "base_uri": "https://localhost:8080/"
        },
        "id": "mewAb9o0mEAB",
        "outputId": "f2e417af-ab4b-45f4-f32d-99ec8232db24"
      },
      "execution_count": null,
      "outputs": [
        {
          "output_type": "execute_result",
          "data": {
            "text/plain": [
              "<tf.Tensor: shape=(2, 2, 1), dtype=int32, numpy=\n",
              "array([[[10],\n",
              "        [ 7]],\n",
              "\n",
              "       [[ 3],\n",
              "        [ 4]]], dtype=int32)>"
            ]
          },
          "metadata": {},
          "execution_count": 37
        }
      ]
    },
    {
      "cell_type": "code",
      "source": [
        "tf.expand_dims(rank_2_tensor, axis = 1)"
      ],
      "metadata": {
        "colab": {
          "base_uri": "https://localhost:8080/"
        },
        "id": "ASloJXQBmu-s",
        "outputId": "0170c763-7922-4bb7-ccd0-273c3468f3cb"
      },
      "execution_count": null,
      "outputs": [
        {
          "output_type": "execute_result",
          "data": {
            "text/plain": [
              "<tf.Tensor: shape=(2, 1, 2), dtype=int32, numpy=\n",
              "array([[[10,  7]],\n",
              "\n",
              "       [[ 3,  4]]], dtype=int32)>"
            ]
          },
          "metadata": {},
          "execution_count": 38
        }
      ]
    },
    {
      "cell_type": "code",
      "source": [
        "print(rank_2_tensor.shape[0])"
      ],
      "metadata": {
        "colab": {
          "base_uri": "https://localhost:8080/"
        },
        "id": "EKTzk_w-mofc",
        "outputId": "2420c842-1d37-44c3-fdf4-7fa6b84ae057"
      },
      "execution_count": null,
      "outputs": [
        {
          "output_type": "stream",
          "name": "stdout",
          "text": [
            "2\n"
          ]
        }
      ]
    },
    {
      "cell_type": "code",
      "source": [
        "#practice blocks\n",
        "tensor_x = tf.constant([\n",
        "    [\n",
        "        [[[1, 2, 3, 4, 5], [6, 7, 8, 9, 10], [11, 12, 13, 14, 15], [16, 17, 18, 19, 20]],\n",
        "         [[21, 22, 23, 24, 25], [26, 27, 28, 29, 30], [31, 32, 33, 34, 35], [36, 37, 38, 39, 40]],\n",
        "         [[41, 42, 43, 44, 45], [46, 47, 48, 49, 50], [51, 52, 53, 54, 55], [56, 57, 58, 59, 60]]],\n",
        "        [[[61, 62, 63, 64, 65], [66, 67, 68, 69, 70], [71, 72, 73, 74, 75], [76, 77, 78, 79, 80]],\n",
        "         [[81, 82, 83, 84, 85], [86, 87, 88, 89, 90], [91, 92, 93, 94, 95], [96, 97, 98, 99, 100]],\n",
        "         [[101, 102, 103, 104, 105], [106, 107, 108, 109, 110], [111, 112, 113, 114, 115], [116, 117, 118, 119, 120]]]\n",
        "    ],\n",
        "    [\n",
        "        [[[121, 122, 123, 124, 125], [126, 127, 128, 129, 130], [131, 132, 133, 134, 135], [136, 137, 138, 139, 140]],\n",
        "         [[141, 142, 143, 144, 145], [146, 147, 148, 149, 150], [151, 152, 153, 154, 155], [156, 157, 158, 159, 160]],\n",
        "         [[161, 162, 163, 164, 165], [166, 167, 168, 169, 170], [171, 172, 173, 174, 175], [176, 177, 178, 179, 180]]],\n",
        "        [[[181, 182, 183, 184, 185], [186, 187, 188, 189, 190], [191, 192, 193, 194, 195], [196, 197, 198, 199, 200]],\n",
        "         [[201, 202, 203, 204, 205], [206, 207, 208, 209, 210], [211, 212, 213, 214, 215], [216, 217, 218, 219, 220]],\n",
        "         [[221, 222, 223, 224, 225], [226, 227, 228, 229, 230], [231, 232, 233, 234, 235], [236, 237, 238, 239, 240]]]\n",
        "    ],\n",
        "    [\n",
        "        [[[241, 242, 243, 244, 245], [246, 247, 248, 249, 250], [251, 252, 253, 254, 255], [256, 257, 258, 259, 260]],\n",
        "         [[261, 262, 263, 264, 265], [266, 267, 268, 269, 270], [271, 272, 273, 274, 275], [276, 277, 278, 279, 280]],\n",
        "         [[281, 282, 283, 284, 285], [286, 287, 288, 289, 290], [291, 292, 293, 294, 295], [296, 297, 298, 299, 300]]],\n",
        "        [[[301, 302, 303, 304, 305], [306, 307, 308, 309, 310], [311, 312, 313, 314, 315], [316, 317, 318, 319, 320]],\n",
        "         [[321, 322, 323, 324, 325], [326, 327, 328, 329, 330], [331, 332, 333, 334, 335], [336, 337, 338, 339, 340]],\n",
        "         [[341, 342, 343, 344, 345], [346, 347, 348, 349, 350], [351, 352, 353, 354, 355], [356, 357, 358, 359, 360]]]\n",
        "    ],\n",
        "    [\n",
        "        [[[361, 362, 363, 364, 365], [366, 367, 368, 369, 370], [371, 372, 373, 374, 375], [376, 377, 378, 379, 380]],\n",
        "         [[381, 382, 383, 384, 385], [386, 387, 388, 389, 390], [391, 392, 393, 394, 395], [396, 397, 398, 399, 400]],\n",
        "         [[401, 402, 403, 404, 405], [406, 407, 408, 409, 410], [411, 412, 413, 414, 415], [416, 417, 418, 419, 420]]],\n",
        "        [[[421, 422, 423, 424, 425], [426, 427, 428, 429, 430], [431, 432, 433, 434, 435], [436, 437, 438, 439, 440]],\n",
        "         [[441, 442, 443, 444, 445], [446, 447, 448, 449, 450], [451, 452, 453, 454, 455], [456, 457, 458, 459, 460]],\n",
        "         [[461, 462, 463, 464, 465], [466, 467, 468, 469, 470], [471, 472, 473, 474, 475], [476, 477, 478, 479, 480]]]\n",
        "    ],\n",
        "    [\n",
        "        [[[481, 482, 483, 484, 485], [486, 487, 488, 489, 490], [491, 492, 493, 494, 495], [496, 497, 498, 499, 500]],\n",
        "         [[501, 502, 503, 504, 505], [506, 507, 508, 509, 510], [511, 512, 513, 514, 515], [516, 517, 518, 519, 520]],\n",
        "         [[521, 522, 523, 524, 525], [526, 527, 528, 529, 530], [531, 532, 533, 534, 535], [536, 537, 538, 539, 540]]],\n",
        "        [[[541, 542, 543, 544, 545], [546, 547, 548, 549, 550], [551, 552, 553, 554, 555], [556, 557, 558, 559, 560]],\n",
        "         [[561, 562, 563, 564, 565], [566, 567, 568, 569, 570], [571, 572, 573, 574, 575], [576, 577, 578, 579, 580]],\n",
        "         [[581, 582, 583, 584, 585], [586, 587, 588, 589, 590], [591, 592, 593, 594, 595], [596, 597, 598, 599, 600]]]\n",
        "    ]\n",
        "], dtype = tf.float32)\n",
        "tensor_x"
      ],
      "metadata": {
        "colab": {
          "base_uri": "https://localhost:8080/"
        },
        "id": "Vfj-Enc0oprv",
        "outputId": "a435b868-2274-4526-a057-acb59eb9b5b2"
      },
      "execution_count": null,
      "outputs": [
        {
          "output_type": "execute_result",
          "data": {
            "text/plain": [
              "<tf.Tensor: shape=(5, 2, 3, 4, 5), dtype=float32, numpy=\n",
              "array([[[[[  1.,   2.,   3.,   4.,   5.],\n",
              "          [  6.,   7.,   8.,   9.,  10.],\n",
              "          [ 11.,  12.,  13.,  14.,  15.],\n",
              "          [ 16.,  17.,  18.,  19.,  20.]],\n",
              "\n",
              "         [[ 21.,  22.,  23.,  24.,  25.],\n",
              "          [ 26.,  27.,  28.,  29.,  30.],\n",
              "          [ 31.,  32.,  33.,  34.,  35.],\n",
              "          [ 36.,  37.,  38.,  39.,  40.]],\n",
              "\n",
              "         [[ 41.,  42.,  43.,  44.,  45.],\n",
              "          [ 46.,  47.,  48.,  49.,  50.],\n",
              "          [ 51.,  52.,  53.,  54.,  55.],\n",
              "          [ 56.,  57.,  58.,  59.,  60.]]],\n",
              "\n",
              "\n",
              "        [[[ 61.,  62.,  63.,  64.,  65.],\n",
              "          [ 66.,  67.,  68.,  69.,  70.],\n",
              "          [ 71.,  72.,  73.,  74.,  75.],\n",
              "          [ 76.,  77.,  78.,  79.,  80.]],\n",
              "\n",
              "         [[ 81.,  82.,  83.,  84.,  85.],\n",
              "          [ 86.,  87.,  88.,  89.,  90.],\n",
              "          [ 91.,  92.,  93.,  94.,  95.],\n",
              "          [ 96.,  97.,  98.,  99., 100.]],\n",
              "\n",
              "         [[101., 102., 103., 104., 105.],\n",
              "          [106., 107., 108., 109., 110.],\n",
              "          [111., 112., 113., 114., 115.],\n",
              "          [116., 117., 118., 119., 120.]]]],\n",
              "\n",
              "\n",
              "\n",
              "       [[[[121., 122., 123., 124., 125.],\n",
              "          [126., 127., 128., 129., 130.],\n",
              "          [131., 132., 133., 134., 135.],\n",
              "          [136., 137., 138., 139., 140.]],\n",
              "\n",
              "         [[141., 142., 143., 144., 145.],\n",
              "          [146., 147., 148., 149., 150.],\n",
              "          [151., 152., 153., 154., 155.],\n",
              "          [156., 157., 158., 159., 160.]],\n",
              "\n",
              "         [[161., 162., 163., 164., 165.],\n",
              "          [166., 167., 168., 169., 170.],\n",
              "          [171., 172., 173., 174., 175.],\n",
              "          [176., 177., 178., 179., 180.]]],\n",
              "\n",
              "\n",
              "        [[[181., 182., 183., 184., 185.],\n",
              "          [186., 187., 188., 189., 190.],\n",
              "          [191., 192., 193., 194., 195.],\n",
              "          [196., 197., 198., 199., 200.]],\n",
              "\n",
              "         [[201., 202., 203., 204., 205.],\n",
              "          [206., 207., 208., 209., 210.],\n",
              "          [211., 212., 213., 214., 215.],\n",
              "          [216., 217., 218., 219., 220.]],\n",
              "\n",
              "         [[221., 222., 223., 224., 225.],\n",
              "          [226., 227., 228., 229., 230.],\n",
              "          [231., 232., 233., 234., 235.],\n",
              "          [236., 237., 238., 239., 240.]]]],\n",
              "\n",
              "\n",
              "\n",
              "       [[[[241., 242., 243., 244., 245.],\n",
              "          [246., 247., 248., 249., 250.],\n",
              "          [251., 252., 253., 254., 255.],\n",
              "          [256., 257., 258., 259., 260.]],\n",
              "\n",
              "         [[261., 262., 263., 264., 265.],\n",
              "          [266., 267., 268., 269., 270.],\n",
              "          [271., 272., 273., 274., 275.],\n",
              "          [276., 277., 278., 279., 280.]],\n",
              "\n",
              "         [[281., 282., 283., 284., 285.],\n",
              "          [286., 287., 288., 289., 290.],\n",
              "          [291., 292., 293., 294., 295.],\n",
              "          [296., 297., 298., 299., 300.]]],\n",
              "\n",
              "\n",
              "        [[[301., 302., 303., 304., 305.],\n",
              "          [306., 307., 308., 309., 310.],\n",
              "          [311., 312., 313., 314., 315.],\n",
              "          [316., 317., 318., 319., 320.]],\n",
              "\n",
              "         [[321., 322., 323., 324., 325.],\n",
              "          [326., 327., 328., 329., 330.],\n",
              "          [331., 332., 333., 334., 335.],\n",
              "          [336., 337., 338., 339., 340.]],\n",
              "\n",
              "         [[341., 342., 343., 344., 345.],\n",
              "          [346., 347., 348., 349., 350.],\n",
              "          [351., 352., 353., 354., 355.],\n",
              "          [356., 357., 358., 359., 360.]]]],\n",
              "\n",
              "\n",
              "\n",
              "       [[[[361., 362., 363., 364., 365.],\n",
              "          [366., 367., 368., 369., 370.],\n",
              "          [371., 372., 373., 374., 375.],\n",
              "          [376., 377., 378., 379., 380.]],\n",
              "\n",
              "         [[381., 382., 383., 384., 385.],\n",
              "          [386., 387., 388., 389., 390.],\n",
              "          [391., 392., 393., 394., 395.],\n",
              "          [396., 397., 398., 399., 400.]],\n",
              "\n",
              "         [[401., 402., 403., 404., 405.],\n",
              "          [406., 407., 408., 409., 410.],\n",
              "          [411., 412., 413., 414., 415.],\n",
              "          [416., 417., 418., 419., 420.]]],\n",
              "\n",
              "\n",
              "        [[[421., 422., 423., 424., 425.],\n",
              "          [426., 427., 428., 429., 430.],\n",
              "          [431., 432., 433., 434., 435.],\n",
              "          [436., 437., 438., 439., 440.]],\n",
              "\n",
              "         [[441., 442., 443., 444., 445.],\n",
              "          [446., 447., 448., 449., 450.],\n",
              "          [451., 452., 453., 454., 455.],\n",
              "          [456., 457., 458., 459., 460.]],\n",
              "\n",
              "         [[461., 462., 463., 464., 465.],\n",
              "          [466., 467., 468., 469., 470.],\n",
              "          [471., 472., 473., 474., 475.],\n",
              "          [476., 477., 478., 479., 480.]]]],\n",
              "\n",
              "\n",
              "\n",
              "       [[[[481., 482., 483., 484., 485.],\n",
              "          [486., 487., 488., 489., 490.],\n",
              "          [491., 492., 493., 494., 495.],\n",
              "          [496., 497., 498., 499., 500.]],\n",
              "\n",
              "         [[501., 502., 503., 504., 505.],\n",
              "          [506., 507., 508., 509., 510.],\n",
              "          [511., 512., 513., 514., 515.],\n",
              "          [516., 517., 518., 519., 520.]],\n",
              "\n",
              "         [[521., 522., 523., 524., 525.],\n",
              "          [526., 527., 528., 529., 530.],\n",
              "          [531., 532., 533., 534., 535.],\n",
              "          [536., 537., 538., 539., 540.]]],\n",
              "\n",
              "\n",
              "        [[[541., 542., 543., 544., 545.],\n",
              "          [546., 547., 548., 549., 550.],\n",
              "          [551., 552., 553., 554., 555.],\n",
              "          [556., 557., 558., 559., 560.]],\n",
              "\n",
              "         [[561., 562., 563., 564., 565.],\n",
              "          [566., 567., 568., 569., 570.],\n",
              "          [571., 572., 573., 574., 575.],\n",
              "          [576., 577., 578., 579., 580.]],\n",
              "\n",
              "         [[581., 582., 583., 584., 585.],\n",
              "          [586., 587., 588., 589., 590.],\n",
              "          [591., 592., 593., 594., 595.],\n",
              "          [596., 597., 598., 599., 600.]]]]], dtype=float32)>"
            ]
          },
          "metadata": {},
          "execution_count": 40
        }
      ]
    },
    {
      "cell_type": "code",
      "source": [
        "print(tensor_x.shape)\n",
        "print(tensor_x.dtype)\n",
        "print(tensor_x.ndim)"
      ],
      "metadata": {
        "colab": {
          "base_uri": "https://localhost:8080/"
        },
        "id": "B4U5WmybqSSg",
        "outputId": "c8a3d128-6623-4ced-80b2-9e4206fbcb21"
      },
      "execution_count": null,
      "outputs": [
        {
          "output_type": "stream",
          "name": "stdout",
          "text": [
            "(5, 2, 3, 4, 5)\n",
            "<dtype: 'float32'>\n",
            "5\n"
          ]
        }
      ]
    },
    {
      "cell_type": "markdown",
      "source": [
        "### Manipulating tensor (tensor operations)\n",
        "\n",
        "**Basic Operations**\n"
      ],
      "metadata": {
        "id": "empy1Ltsq4gL"
      }
    },
    {
      "cell_type": "code",
      "source": [
        "tensor = tf.constant([[10, 7],\n",
        "                     [14, 9]])\n",
        "tensor + 10\n"
      ],
      "metadata": {
        "colab": {
          "base_uri": "https://localhost:8080/"
        },
        "id": "k5huD9XfrPtX",
        "outputId": "65c62808-27ef-44c2-8922-b3afdaa9fc9f"
      },
      "execution_count": null,
      "outputs": [
        {
          "output_type": "execute_result",
          "data": {
            "text/plain": [
              "<tf.Tensor: shape=(2, 2), dtype=int32, numpy=\n",
              "array([[20, 17],\n",
              "       [24, 19]], dtype=int32)>"
            ]
          },
          "metadata": {},
          "execution_count": 42
        }
      ]
    },
    {
      "cell_type": "code",
      "source": [
        "tensor * 10"
      ],
      "metadata": {
        "colab": {
          "base_uri": "https://localhost:8080/"
        },
        "id": "h3JEmzS12UHP",
        "outputId": "7c85fb40-6251-4351-8e73-07c3feae1f0b"
      },
      "execution_count": null,
      "outputs": [
        {
          "output_type": "execute_result",
          "data": {
            "text/plain": [
              "<tf.Tensor: shape=(2, 2), dtype=int32, numpy=\n",
              "array([[100,  70],\n",
              "       [140,  90]], dtype=int32)>"
            ]
          },
          "metadata": {},
          "execution_count": 43
        }
      ]
    },
    {
      "cell_type": "code",
      "source": [
        "tensor % 9"
      ],
      "metadata": {
        "colab": {
          "base_uri": "https://localhost:8080/"
        },
        "id": "6PAhiwVB2WRD",
        "outputId": "00aa7130-39ae-46d6-a390-4fcc3598222b"
      },
      "execution_count": null,
      "outputs": [
        {
          "output_type": "execute_result",
          "data": {
            "text/plain": [
              "<tf.Tensor: shape=(2, 2), dtype=int32, numpy=\n",
              "array([[1, 7],\n",
              "       [5, 0]], dtype=int32)>"
            ]
          },
          "metadata": {},
          "execution_count": 44
        }
      ]
    },
    {
      "cell_type": "code",
      "source": [
        "#Faster way of computing (using tf functions for basic operations)\n",
        "tf.add(tensor, 10)\n",
        "tf.multiply(tensor, 9)"
      ],
      "metadata": {
        "colab": {
          "base_uri": "https://localhost:8080/"
        },
        "id": "gzzUL-pC2aHs",
        "outputId": "7d2444cf-9910-4488-8743-dea45a00f069"
      },
      "execution_count": null,
      "outputs": [
        {
          "output_type": "execute_result",
          "data": {
            "text/plain": [
              "<tf.Tensor: shape=(2, 2), dtype=int32, numpy=\n",
              "array([[ 90,  63],\n",
              "       [126,  81]], dtype=int32)>"
            ]
          },
          "metadata": {},
          "execution_count": 45
        }
      ]
    },
    {
      "cell_type": "markdown",
      "source": [
        "**Matrix Multiplication**\n",
        "\n",
        "tf.linalg.matmul()"
      ],
      "metadata": {
        "id": "oVh2rGIfAqjV"
      }
    },
    {
      "cell_type": "code",
      "source": [
        "tensor\n",
        "tf.matmul(tensor, tensor)"
      ],
      "metadata": {
        "colab": {
          "base_uri": "https://localhost:8080/"
        },
        "id": "CkrsG-rRAzQr",
        "outputId": "17ff65fa-e4fb-45b3-ea0f-85ef6196a224"
      },
      "execution_count": null,
      "outputs": [
        {
          "output_type": "execute_result",
          "data": {
            "text/plain": [
              "<tf.Tensor: shape=(2, 2), dtype=int32, numpy=\n",
              "array([[198, 133],\n",
              "       [266, 179]], dtype=int32)>"
            ]
          },
          "metadata": {},
          "execution_count": 46
        }
      ]
    },
    {
      "cell_type": "code",
      "source": [
        "# Matrix Multiplications with python operator \"@\"\n",
        "tensor @tensor"
      ],
      "metadata": {
        "colab": {
          "base_uri": "https://localhost:8080/"
        },
        "id": "HefVadR5Du9J",
        "outputId": "a0e1da51-2bf8-462a-f7ba-b7826a710b47"
      },
      "execution_count": null,
      "outputs": [
        {
          "output_type": "execute_result",
          "data": {
            "text/plain": [
              "<tf.Tensor: shape=(2, 2), dtype=int32, numpy=\n",
              "array([[198, 133],\n",
              "       [266, 179]], dtype=int32)>"
            ]
          },
          "metadata": {},
          "execution_count": 47
        }
      ]
    },
    {
      "cell_type": "code",
      "source": [
        "X = tf.constant([[1, 2],\n",
        "                 [3, 4],\n",
        "                 [5, 6]])\n",
        "Y = tf.constant([[4, 5, 9],\n",
        "                 [3, 9, 10]])\n",
        "Z = tf.constant([[10, 11],\n",
        "                 [12, 13],\n",
        "                 [14, 15]])\n",
        "tf.matmul(tf.reshape(Z, shape = (2,3)), X)"
      ],
      "metadata": {
        "colab": {
          "base_uri": "https://localhost:8080/"
        },
        "id": "LovxkFvXEDVA",
        "outputId": "dc5d14c5-6c9f-4f10-98f4-7f14a775ccb9"
      },
      "execution_count": null,
      "outputs": [
        {
          "output_type": "execute_result",
          "data": {
            "text/plain": [
              "<tf.Tensor: shape=(2, 2), dtype=int32, numpy=\n",
              "array([[103, 136],\n",
              "       [130, 172]], dtype=int32)>"
            ]
          },
          "metadata": {},
          "execution_count": 48
        }
      ]
    },
    {
      "cell_type": "code",
      "source": [
        "#can do the same with transpose\n",
        "X, tf.transpose(X), tf.reshape(X, shape = (2,3))"
      ],
      "metadata": {
        "colab": {
          "base_uri": "https://localhost:8080/"
        },
        "id": "IEyL20wCKL4S",
        "outputId": "6d340bc1-5b28-4d69-d955-a6c9e399249c"
      },
      "execution_count": null,
      "outputs": [
        {
          "output_type": "execute_result",
          "data": {
            "text/plain": [
              "(<tf.Tensor: shape=(3, 2), dtype=int32, numpy=\n",
              " array([[1, 2],\n",
              "        [3, 4],\n",
              "        [5, 6]], dtype=int32)>,\n",
              " <tf.Tensor: shape=(2, 3), dtype=int32, numpy=\n",
              " array([[1, 3, 5],\n",
              "        [2, 4, 6]], dtype=int32)>,\n",
              " <tf.Tensor: shape=(2, 3), dtype=int32, numpy=\n",
              " array([[1, 2, 3],\n",
              "        [4, 5, 6]], dtype=int32)>)"
            ]
          },
          "metadata": {},
          "execution_count": 49
        }
      ]
    },
    {
      "cell_type": "markdown",
      "source": [
        "**The Dot Product**\n",
        "\n",
        "Matrix Multiplication is also refered to as the dot product.\n",
        "\n",
        "You can perform the matrix multiplication using:\n",
        " * `tf.matmul()`\n",
        " * `tf.tensordot()`"
      ],
      "metadata": {
        "id": "ccsfdHc-M_4U"
      }
    },
    {
      "cell_type": "code",
      "source": [
        "#Perform the dot product on X or Y\n",
        "tf.tensordot(tf.transpose(X), Z, axes = 1)"
      ],
      "metadata": {
        "colab": {
          "base_uri": "https://localhost:8080/"
        },
        "id": "L-YKh8gzNkLi",
        "outputId": "4e1871f1-44f7-4a23-a60f-0e9a421c9ccc"
      },
      "execution_count": null,
      "outputs": [
        {
          "output_type": "execute_result",
          "data": {
            "text/plain": [
              "<tf.Tensor: shape=(2, 2), dtype=int32, numpy=\n",
              "array([[116, 125],\n",
              "       [152, 164]], dtype=int32)>"
            ]
          },
          "metadata": {},
          "execution_count": 50
        }
      ]
    },
    {
      "cell_type": "code",
      "source": [
        "tf.matmul(Z, tf.transpose(X))"
      ],
      "metadata": {
        "colab": {
          "base_uri": "https://localhost:8080/"
        },
        "id": "JCsOGv0qiCun",
        "outputId": "72009721-f424-4bbe-b4b9-ae35f776e2e0"
      },
      "execution_count": null,
      "outputs": [
        {
          "output_type": "execute_result",
          "data": {
            "text/plain": [
              "<tf.Tensor: shape=(3, 3), dtype=int32, numpy=\n",
              "array([[ 32,  74, 116],\n",
              "       [ 38,  88, 138],\n",
              "       [ 44, 102, 160]], dtype=int32)>"
            ]
          },
          "metadata": {},
          "execution_count": 51
        }
      ]
    },
    {
      "cell_type": "markdown",
      "source": [
        "### Changing the Datatype"
      ],
      "metadata": {
        "id": "LWKG85aMiWvQ"
      }
    },
    {
      "cell_type": "code",
      "source": [
        "#Create a new tensor with float 32\n",
        "B = tf.constant([1.24, 34.12])\n",
        "B.dtype"
      ],
      "metadata": {
        "colab": {
          "base_uri": "https://localhost:8080/"
        },
        "id": "8n_zQZFXlph0",
        "outputId": "59e57554-4994-4b4a-9f90-d0a22dda747b"
      },
      "execution_count": null,
      "outputs": [
        {
          "output_type": "execute_result",
          "data": {
            "text/plain": [
              "tf.float32"
            ]
          },
          "metadata": {},
          "execution_count": 52
        }
      ]
    },
    {
      "cell_type": "code",
      "source": [
        "A = tf.constant([10, 7])\n",
        "A.dtype"
      ],
      "metadata": {
        "colab": {
          "base_uri": "https://localhost:8080/"
        },
        "id": "LkjZlpKDnIna",
        "outputId": "a2212a75-2ef7-4ae5-9880-c40720d2a685"
      },
      "execution_count": null,
      "outputs": [
        {
          "output_type": "execute_result",
          "data": {
            "text/plain": [
              "tf.int32"
            ]
          },
          "metadata": {},
          "execution_count": 53
        }
      ]
    },
    {
      "cell_type": "code",
      "source": [
        "#Change frm float32 to float16 (reduced accuracy)\n",
        "C = tf.cast(B, dtype = tf.float16)\n",
        "C"
      ],
      "metadata": {
        "colab": {
          "base_uri": "https://localhost:8080/"
        },
        "id": "ylDNga0tl5Vk",
        "outputId": "b16cda94-5db6-4cce-fc61-d9f745254ec8"
      },
      "execution_count": null,
      "outputs": [
        {
          "output_type": "execute_result",
          "data": {
            "text/plain": [
              "<tf.Tensor: shape=(2,), dtype=float16, numpy=array([ 1.24, 34.12], dtype=float16)>"
            ]
          },
          "metadata": {},
          "execution_count": 54
        }
      ]
    },
    {
      "cell_type": "code",
      "source": [
        "#Change from int32 to float 32\n",
        "D = tf.cast(B, dtype = tf.float16)\n",
        "D\n"
      ],
      "metadata": {
        "colab": {
          "base_uri": "https://localhost:8080/"
        },
        "id": "H2xzgO9KmppE",
        "outputId": "b666e26f-bf62-4673-cb9a-0a90f197e9d2"
      },
      "execution_count": null,
      "outputs": [
        {
          "output_type": "execute_result",
          "data": {
            "text/plain": [
              "<tf.Tensor: shape=(2,), dtype=float16, numpy=array([ 1.24, 34.12], dtype=float16)>"
            ]
          },
          "metadata": {},
          "execution_count": 55
        }
      ]
    },
    {
      "cell_type": "markdown",
      "source": [
        "###Aggregating tensors\n",
        "\n",
        "Aggregating tensors = condensing them from multiple values down to a smaller amount of values\n"
      ],
      "metadata": {
        "id": "drLd6BA-nmMt"
      }
    },
    {
      "cell_type": "code",
      "source": [
        "#getting the abosolute values\n",
        "D = tf.constant([-7, -10])\n",
        "tf.abs(D)\n"
      ],
      "metadata": {
        "colab": {
          "base_uri": "https://localhost:8080/"
        },
        "id": "qVDZ58mdnycg",
        "outputId": "e0d0f8a1-5575-497e-8139-4bfc4df9f207"
      },
      "execution_count": null,
      "outputs": [
        {
          "output_type": "execute_result",
          "data": {
            "text/plain": [
              "<tf.Tensor: shape=(2,), dtype=int32, numpy=array([ 7, 10], dtype=int32)>"
            ]
          },
          "metadata": {},
          "execution_count": 56
        }
      ]
    },
    {
      "cell_type": "markdown",
      "source": [
        "**Other ways of aggregation:**\n",
        "\n",
        "* Get the minimum\n",
        "* Get the maximum\n",
        "* Get the mean of a tensor\n",
        "* Get the sum of the tensor"
      ],
      "metadata": {
        "id": "tZn8MFuQoWAt"
      }
    },
    {
      "cell_type": "code",
      "source": [
        "E = tf.constant(np.random.randint(0, 100, size = 50))\n",
        "E"
      ],
      "metadata": {
        "colab": {
          "base_uri": "https://localhost:8080/"
        },
        "id": "Dv_VL5ono9xI",
        "outputId": "181da09e-d872-4862-c1b0-5c44f4a206c5"
      },
      "execution_count": null,
      "outputs": [
        {
          "output_type": "execute_result",
          "data": {
            "text/plain": [
              "<tf.Tensor: shape=(50,), dtype=int64, numpy=\n",
              "array([78, 80, 11, 86, 95, 57, 65,  3, 10, 10, 85, 92, 75, 91, 37, 95, 98,\n",
              "        2,  3,  2, 86, 79, 74, 82, 56, 65, 18,  8, 26, 87, 49, 68, 10, 32,\n",
              "        8, 48,  1, 96, 68,  1,  2, 49, 93, 17, 50, 92, 80, 86, 42, 58])>"
            ]
          },
          "metadata": {},
          "execution_count": 57
        }
      ]
    },
    {
      "cell_type": "code",
      "source": [
        "tf.size(E), E.shape, E.ndim"
      ],
      "metadata": {
        "colab": {
          "base_uri": "https://localhost:8080/"
        },
        "id": "iFKvV-Vhpgi2",
        "outputId": "66fbb332-c7e5-4b50-ec56-2909511bc3e5"
      },
      "execution_count": null,
      "outputs": [
        {
          "output_type": "execute_result",
          "data": {
            "text/plain": [
              "(<tf.Tensor: shape=(), dtype=int32, numpy=50>, TensorShape([50]), 1)"
            ]
          },
          "metadata": {},
          "execution_count": 58
        }
      ]
    },
    {
      "cell_type": "code",
      "source": [
        "#finding the minimum\n",
        "tf.reduce_min(E)"
      ],
      "metadata": {
        "colab": {
          "base_uri": "https://localhost:8080/"
        },
        "id": "C33qmDvJptjq",
        "outputId": "b2b22ae5-e3b2-44f0-949f-0991eadc7459"
      },
      "execution_count": null,
      "outputs": [
        {
          "output_type": "execute_result",
          "data": {
            "text/plain": [
              "<tf.Tensor: shape=(), dtype=int64, numpy=1>"
            ]
          },
          "metadata": {},
          "execution_count": 59
        }
      ]
    },
    {
      "cell_type": "code",
      "source": [
        "#finding the maximum\n",
        "tf.reduce_max(E)"
      ],
      "metadata": {
        "colab": {
          "base_uri": "https://localhost:8080/"
        },
        "id": "OYjLr_LQp7IO",
        "outputId": "56b05a85-9cf0-4c4e-8dd2-2efce9d066e3"
      },
      "execution_count": null,
      "outputs": [
        {
          "output_type": "execute_result",
          "data": {
            "text/plain": [
              "<tf.Tensor: shape=(), dtype=int64, numpy=98>"
            ]
          },
          "metadata": {},
          "execution_count": 60
        }
      ]
    },
    {
      "cell_type": "code",
      "source": [
        "tf.reduce_mean(E)"
      ],
      "metadata": {
        "colab": {
          "base_uri": "https://localhost:8080/"
        },
        "id": "McLauSi1qCWD",
        "outputId": "eff97866-c1dd-4926-88cb-e2bd41c6b1af"
      },
      "execution_count": null,
      "outputs": [
        {
          "output_type": "execute_result",
          "data": {
            "text/plain": [
              "<tf.Tensor: shape=(), dtype=int64, numpy=52>"
            ]
          },
          "metadata": {},
          "execution_count": 61
        }
      ]
    },
    {
      "cell_type": "code",
      "source": [
        "tf.reduce_sum(E)"
      ],
      "metadata": {
        "colab": {
          "base_uri": "https://localhost:8080/"
        },
        "id": "C7M1fktyqFBZ",
        "outputId": "fd682748-5555-418f-ca8e-68e656f7b491"
      },
      "execution_count": null,
      "outputs": [
        {
          "output_type": "execute_result",
          "data": {
            "text/plain": [
              "<tf.Tensor: shape=(), dtype=int64, numpy=2606>"
            ]
          },
          "metadata": {},
          "execution_count": 62
        }
      ]
    },
    {
      "cell_type": "markdown",
      "source": [
        "**EXE: Find VARIENCE and STD. DEVIATION**"
      ],
      "metadata": {
        "id": "guq4dMA6qKt4"
      }
    },
    {
      "cell_type": "code",
      "source": [
        "tf.math.reduce_variance(E) # for this we require the tfp package."
      ],
      "metadata": {
        "colab": {
          "base_uri": "https://localhost:8080/",
          "height": 298
        },
        "id": "ENqSKAIzqcKZ",
        "outputId": "093adb7d-bdad-41d3-8aa4-a8324d555f30"
      },
      "execution_count": null,
      "outputs": [
        {
          "output_type": "error",
          "ename": "TypeError",
          "evalue": "Input must be either real or complex. Received integer type <dtype: 'int64'>.",
          "traceback": [
            "\u001b[0;31m---------------------------------------------------------------------------\u001b[0m",
            "\u001b[0;31mTypeError\u001b[0m                                 Traceback (most recent call last)",
            "\u001b[0;32m<ipython-input-63-c9449c94353a>\u001b[0m in \u001b[0;36m<cell line: 1>\u001b[0;34m()\u001b[0m\n\u001b[0;32m----> 1\u001b[0;31m \u001b[0mtf\u001b[0m\u001b[0;34m.\u001b[0m\u001b[0mmath\u001b[0m\u001b[0;34m.\u001b[0m\u001b[0mreduce_variance\u001b[0m\u001b[0;34m(\u001b[0m\u001b[0mE\u001b[0m\u001b[0;34m)\u001b[0m \u001b[0;31m# for this we require the tfp package.\u001b[0m\u001b[0;34m\u001b[0m\u001b[0;34m\u001b[0m\u001b[0m\n\u001b[0m",
            "\u001b[0;32m/usr/local/lib/python3.10/dist-packages/tensorflow/python/ops/weak_tensor_ops.py\u001b[0m in \u001b[0;36mwrapper\u001b[0;34m(*args, **kwargs)\u001b[0m\n\u001b[1;32m     86\u001b[0m   \u001b[0;32mdef\u001b[0m \u001b[0mwrapper\u001b[0m\u001b[0;34m(\u001b[0m\u001b[0;34m*\u001b[0m\u001b[0margs\u001b[0m\u001b[0;34m,\u001b[0m \u001b[0;34m**\u001b[0m\u001b[0mkwargs\u001b[0m\u001b[0;34m)\u001b[0m\u001b[0;34m:\u001b[0m\u001b[0;34m\u001b[0m\u001b[0;34m\u001b[0m\u001b[0m\n\u001b[1;32m     87\u001b[0m     \u001b[0;32mif\u001b[0m \u001b[0;32mnot\u001b[0m \u001b[0mops\u001b[0m\u001b[0;34m.\u001b[0m\u001b[0mis_auto_dtype_conversion_enabled\u001b[0m\u001b[0;34m(\u001b[0m\u001b[0;34m)\u001b[0m\u001b[0;34m:\u001b[0m\u001b[0;34m\u001b[0m\u001b[0;34m\u001b[0m\u001b[0m\n\u001b[0;32m---> 88\u001b[0;31m       \u001b[0;32mreturn\u001b[0m \u001b[0mop\u001b[0m\u001b[0;34m(\u001b[0m\u001b[0;34m*\u001b[0m\u001b[0margs\u001b[0m\u001b[0;34m,\u001b[0m \u001b[0;34m**\u001b[0m\u001b[0mkwargs\u001b[0m\u001b[0;34m)\u001b[0m\u001b[0;34m\u001b[0m\u001b[0;34m\u001b[0m\u001b[0m\n\u001b[0m\u001b[1;32m     89\u001b[0m     \u001b[0mbound_arguments\u001b[0m \u001b[0;34m=\u001b[0m \u001b[0msignature\u001b[0m\u001b[0;34m.\u001b[0m\u001b[0mbind\u001b[0m\u001b[0;34m(\u001b[0m\u001b[0;34m*\u001b[0m\u001b[0margs\u001b[0m\u001b[0;34m,\u001b[0m \u001b[0;34m**\u001b[0m\u001b[0mkwargs\u001b[0m\u001b[0;34m)\u001b[0m\u001b[0;34m\u001b[0m\u001b[0;34m\u001b[0m\u001b[0m\n\u001b[1;32m     90\u001b[0m     \u001b[0mbound_arguments\u001b[0m\u001b[0;34m.\u001b[0m\u001b[0mapply_defaults\u001b[0m\u001b[0;34m(\u001b[0m\u001b[0;34m)\u001b[0m\u001b[0;34m\u001b[0m\u001b[0;34m\u001b[0m\u001b[0m\n",
            "\u001b[0;32m/usr/local/lib/python3.10/dist-packages/tensorflow/python/util/traceback_utils.py\u001b[0m in \u001b[0;36merror_handler\u001b[0;34m(*args, **kwargs)\u001b[0m\n\u001b[1;32m    151\u001b[0m     \u001b[0;32mexcept\u001b[0m \u001b[0mException\u001b[0m \u001b[0;32mas\u001b[0m \u001b[0me\u001b[0m\u001b[0;34m:\u001b[0m\u001b[0;34m\u001b[0m\u001b[0;34m\u001b[0m\u001b[0m\n\u001b[1;32m    152\u001b[0m       \u001b[0mfiltered_tb\u001b[0m \u001b[0;34m=\u001b[0m \u001b[0m_process_traceback_frames\u001b[0m\u001b[0;34m(\u001b[0m\u001b[0me\u001b[0m\u001b[0;34m.\u001b[0m\u001b[0m__traceback__\u001b[0m\u001b[0;34m)\u001b[0m\u001b[0;34m\u001b[0m\u001b[0;34m\u001b[0m\u001b[0m\n\u001b[0;32m--> 153\u001b[0;31m       \u001b[0;32mraise\u001b[0m \u001b[0me\u001b[0m\u001b[0;34m.\u001b[0m\u001b[0mwith_traceback\u001b[0m\u001b[0;34m(\u001b[0m\u001b[0mfiltered_tb\u001b[0m\u001b[0;34m)\u001b[0m \u001b[0;32mfrom\u001b[0m \u001b[0;32mNone\u001b[0m\u001b[0;34m\u001b[0m\u001b[0;34m\u001b[0m\u001b[0m\n\u001b[0m\u001b[1;32m    154\u001b[0m     \u001b[0;32mfinally\u001b[0m\u001b[0;34m:\u001b[0m\u001b[0;34m\u001b[0m\u001b[0;34m\u001b[0m\u001b[0m\n\u001b[1;32m    155\u001b[0m       \u001b[0;32mdel\u001b[0m \u001b[0mfiltered_tb\u001b[0m\u001b[0;34m\u001b[0m\u001b[0;34m\u001b[0m\u001b[0m\n",
            "\u001b[0;32m/usr/local/lib/python3.10/dist-packages/tensorflow/python/ops/math_ops.py\u001b[0m in \u001b[0;36mreduce_variance\u001b[0;34m(input_tensor, axis, keepdims, name)\u001b[0m\n\u001b[1;32m   2820\u001b[0m     \u001b[0mmeans\u001b[0m \u001b[0;34m=\u001b[0m \u001b[0mreduce_mean\u001b[0m\u001b[0;34m(\u001b[0m\u001b[0minput_tensor\u001b[0m\u001b[0;34m,\u001b[0m \u001b[0maxis\u001b[0m\u001b[0;34m=\u001b[0m\u001b[0maxis\u001b[0m\u001b[0;34m,\u001b[0m \u001b[0mkeepdims\u001b[0m\u001b[0;34m=\u001b[0m\u001b[0;32mTrue\u001b[0m\u001b[0;34m)\u001b[0m\u001b[0;34m\u001b[0m\u001b[0;34m\u001b[0m\u001b[0m\n\u001b[1;32m   2821\u001b[0m     \u001b[0;32mif\u001b[0m \u001b[0mmeans\u001b[0m\u001b[0;34m.\u001b[0m\u001b[0mdtype\u001b[0m\u001b[0;34m.\u001b[0m\u001b[0mis_integer\u001b[0m\u001b[0;34m:\u001b[0m\u001b[0;34m\u001b[0m\u001b[0;34m\u001b[0m\u001b[0m\n\u001b[0;32m-> 2822\u001b[0;31m       raise TypeError(f\"Input must be either real or complex. \"\n\u001b[0m\u001b[1;32m   2823\u001b[0m                       f\"Received integer type {means.dtype}.\")\n\u001b[1;32m   2824\u001b[0m     \u001b[0mdiff\u001b[0m \u001b[0;34m=\u001b[0m \u001b[0minput_tensor\u001b[0m \u001b[0;34m-\u001b[0m \u001b[0mmeans\u001b[0m\u001b[0;34m\u001b[0m\u001b[0;34m\u001b[0m\u001b[0m\n",
            "\u001b[0;31mTypeError\u001b[0m: Input must be either real or complex. Received integer type <dtype: 'int64'>."
          ]
        }
      ]
    },
    {
      "cell_type": "code",
      "source": [
        "#For statistical tools we need to import the tensorflow_probability package\n",
        "import tensorflow_probability as tfp\n",
        "tfp.stats.variance(E)"
      ],
      "metadata": {
        "colab": {
          "base_uri": "https://localhost:8080/"
        },
        "id": "kEATnNtXrpGy",
        "outputId": "e8af0c94-607d-4e70-d100-5da4a94ff598"
      },
      "execution_count": null,
      "outputs": [
        {
          "output_type": "execute_result",
          "data": {
            "text/plain": [
              "<tf.Tensor: shape=(), dtype=int64, numpy=1158>"
            ]
          },
          "metadata": {},
          "execution_count": 64
        }
      ]
    },
    {
      "cell_type": "code",
      "source": [
        "# find standered deviation of E\n",
        "E = tf.cast(E, dtype = tf.float32)\n",
        "tfp.stats.stddev(E) # also tf.math.reduce_std(E) can be used"
      ],
      "metadata": {
        "colab": {
          "base_uri": "https://localhost:8080/"
        },
        "id": "b5zQBwatr2iz",
        "outputId": "487bfada-d666-4dd2-d78d-3450720cfd8e"
      },
      "execution_count": null,
      "outputs": [
        {
          "output_type": "execute_result",
          "data": {
            "text/plain": [
              "<tf.Tensor: shape=(), dtype=float32, numpy=34.03389>"
            ]
          },
          "metadata": {},
          "execution_count": 65
        }
      ]
    },
    {
      "cell_type": "markdown",
      "source": [
        "###Find the positional maximum and minimum of a tensor"
      ],
      "metadata": {
        "id": "7cmi8_tUtPnh"
      }
    },
    {
      "cell_type": "code",
      "source": [
        "#Create a new tensor for finding maximum and minimum\n",
        "tf.random.set_seed(42)\n",
        "F = tf.random.uniform(shape = [50])\n",
        "F"
      ],
      "metadata": {
        "id": "ogA0pF9qtnhG",
        "colab": {
          "base_uri": "https://localhost:8080/"
        },
        "outputId": "bd975e0c-e33f-4759-8ec7-5f61d7a32680"
      },
      "execution_count": null,
      "outputs": [
        {
          "output_type": "execute_result",
          "data": {
            "text/plain": [
              "<tf.Tensor: shape=(50,), dtype=float32, numpy=\n",
              "array([0.6645621 , 0.44100678, 0.3528825 , 0.46448255, 0.03366041,\n",
              "       0.68467236, 0.74011743, 0.8724445 , 0.22632635, 0.22319686,\n",
              "       0.3103881 , 0.7223358 , 0.13318717, 0.5480639 , 0.5746088 ,\n",
              "       0.8996835 , 0.00946367, 0.5212307 , 0.6345445 , 0.1993283 ,\n",
              "       0.72942245, 0.54583454, 0.10756552, 0.6767061 , 0.6602763 ,\n",
              "       0.33695042, 0.60141766, 0.21062577, 0.8527372 , 0.44062173,\n",
              "       0.9485276 , 0.23752594, 0.81179297, 0.5263394 , 0.494308  ,\n",
              "       0.21612847, 0.8457197 , 0.8718841 , 0.3083862 , 0.6868038 ,\n",
              "       0.23764038, 0.7817228 , 0.9671384 , 0.06870162, 0.79873943,\n",
              "       0.66028714, 0.5871513 , 0.16461694, 0.7381023 , 0.32054043],\n",
              "      dtype=float32)>"
            ]
          },
          "metadata": {},
          "execution_count": 66
        }
      ]
    },
    {
      "cell_type": "code",
      "source": [
        "#Find the positional maximum\n",
        "tf.argmax(F)"
      ],
      "metadata": {
        "colab": {
          "base_uri": "https://localhost:8080/"
        },
        "id": "aoZyQuUb46a-",
        "outputId": "6082cbc2-5067-4c2b-ba29-29b824f1d323"
      },
      "execution_count": null,
      "outputs": [
        {
          "output_type": "execute_result",
          "data": {
            "text/plain": [
              "<tf.Tensor: shape=(), dtype=int64, numpy=42>"
            ]
          },
          "metadata": {},
          "execution_count": 67
        }
      ]
    },
    {
      "cell_type": "code",
      "source": [
        "#Index on our largest value position\n",
        "F[tf.argmax(F)]"
      ],
      "metadata": {
        "colab": {
          "base_uri": "https://localhost:8080/"
        },
        "id": "-9yj1PqQ5I-w",
        "outputId": "5de42812-4b12-4172-9dc4-575dc0f10287"
      },
      "execution_count": null,
      "outputs": [
        {
          "output_type": "execute_result",
          "data": {
            "text/plain": [
              "<tf.Tensor: shape=(), dtype=float32, numpy=0.9671384>"
            ]
          },
          "metadata": {},
          "execution_count": 68
        }
      ]
    },
    {
      "cell_type": "code",
      "source": [
        "#Find the maximum value of F\n",
        "tf.reduce_max(F)\n"
      ],
      "metadata": {
        "colab": {
          "base_uri": "https://localhost:8080/"
        },
        "id": "abfGj2Co5sW1",
        "outputId": "37a39838-f44d-4c40-f014-4df0be6e38d5"
      },
      "execution_count": null,
      "outputs": [
        {
          "output_type": "execute_result",
          "data": {
            "text/plain": [
              "<tf.Tensor: shape=(), dtype=float32, numpy=0.9671384>"
            ]
          },
          "metadata": {},
          "execution_count": 69
        }
      ]
    },
    {
      "cell_type": "code",
      "source": [
        "tf.reduce_max(F) == F[tf.argmax(F)]"
      ],
      "metadata": {
        "colab": {
          "base_uri": "https://localhost:8080/"
        },
        "id": "UU9s_pqd54hC",
        "outputId": "982273d5-127e-4213-e053-a9c3a7c0c135"
      },
      "execution_count": null,
      "outputs": [
        {
          "output_type": "execute_result",
          "data": {
            "text/plain": [
              "<tf.Tensor: shape=(), dtype=bool, numpy=True>"
            ]
          },
          "metadata": {},
          "execution_count": 70
        }
      ]
    },
    {
      "cell_type": "code",
      "source": [
        "tf.argmin(F)"
      ],
      "metadata": {
        "colab": {
          "base_uri": "https://localhost:8080/"
        },
        "id": "LBBa0DSL6kvN",
        "outputId": "8c9e3e5d-ed0b-4ab0-ab8e-ea6b85ab8992"
      },
      "execution_count": null,
      "outputs": [
        {
          "output_type": "execute_result",
          "data": {
            "text/plain": [
              "<tf.Tensor: shape=(), dtype=int64, numpy=16>"
            ]
          },
          "metadata": {},
          "execution_count": 71
        }
      ]
    },
    {
      "cell_type": "code",
      "source": [
        "F[tf.argmin(F)]"
      ],
      "metadata": {
        "colab": {
          "base_uri": "https://localhost:8080/"
        },
        "id": "jLqWcRcn6wAw",
        "outputId": "2f85621c-daf5-4a99-fabc-a8a017d54d6b"
      },
      "execution_count": null,
      "outputs": [
        {
          "output_type": "execute_result",
          "data": {
            "text/plain": [
              "<tf.Tensor: shape=(), dtype=float32, numpy=0.009463668>"
            ]
          },
          "metadata": {},
          "execution_count": 72
        }
      ]
    },
    {
      "cell_type": "markdown",
      "source": [
        "### Squeezing a tensor (removing all single dimensions)"
      ],
      "metadata": {
        "id": "sfNckq1i63Sx"
      }
    },
    {
      "cell_type": "code",
      "source": [
        "tf.random.set_seed(42)\n",
        "G = tf.constant(tf.random.uniform(shape = [50]), shape = (1,1,1,1,50))\n",
        "G"
      ],
      "metadata": {
        "colab": {
          "base_uri": "https://localhost:8080/"
        },
        "id": "wVaBEEKB7Mqt",
        "outputId": "1da4a0d5-add1-4d02-d68d-e6c50957ecf1"
      },
      "execution_count": null,
      "outputs": [
        {
          "output_type": "execute_result",
          "data": {
            "text/plain": [
              "<tf.Tensor: shape=(1, 1, 1, 1, 50), dtype=float32, numpy=\n",
              "array([[[[[0.6645621 , 0.44100678, 0.3528825 , 0.46448255, 0.03366041,\n",
              "           0.68467236, 0.74011743, 0.8724445 , 0.22632635, 0.22319686,\n",
              "           0.3103881 , 0.7223358 , 0.13318717, 0.5480639 , 0.5746088 ,\n",
              "           0.8996835 , 0.00946367, 0.5212307 , 0.6345445 , 0.1993283 ,\n",
              "           0.72942245, 0.54583454, 0.10756552, 0.6767061 , 0.6602763 ,\n",
              "           0.33695042, 0.60141766, 0.21062577, 0.8527372 , 0.44062173,\n",
              "           0.9485276 , 0.23752594, 0.81179297, 0.5263394 , 0.494308  ,\n",
              "           0.21612847, 0.8457197 , 0.8718841 , 0.3083862 , 0.6868038 ,\n",
              "           0.23764038, 0.7817228 , 0.9671384 , 0.06870162, 0.79873943,\n",
              "           0.66028714, 0.5871513 , 0.16461694, 0.7381023 , 0.32054043]]]]],\n",
              "      dtype=float32)>"
            ]
          },
          "metadata": {},
          "execution_count": 73
        }
      ]
    },
    {
      "cell_type": "code",
      "source": [
        "G.shape"
      ],
      "metadata": {
        "colab": {
          "base_uri": "https://localhost:8080/"
        },
        "id": "YU1wjlbt7uEd",
        "outputId": "2997674e-33b8-4f37-bfdd-e01183446947"
      },
      "execution_count": null,
      "outputs": [
        {
          "output_type": "execute_result",
          "data": {
            "text/plain": [
              "TensorShape([1, 1, 1, 1, 50])"
            ]
          },
          "metadata": {},
          "execution_count": 74
        }
      ]
    },
    {
      "cell_type": "code",
      "source": [
        "G_squeezed = tf.squeeze(G)\n",
        "G_squeezed, G_squeezed.shape"
      ],
      "metadata": {
        "colab": {
          "base_uri": "https://localhost:8080/"
        },
        "id": "fWhKllLmdm7Z",
        "outputId": "a202ca48-dfd7-482b-f589-d395d3ec9bc0"
      },
      "execution_count": null,
      "outputs": [
        {
          "output_type": "execute_result",
          "data": {
            "text/plain": [
              "(<tf.Tensor: shape=(50,), dtype=float32, numpy=\n",
              " array([0.6645621 , 0.44100678, 0.3528825 , 0.46448255, 0.03366041,\n",
              "        0.68467236, 0.74011743, 0.8724445 , 0.22632635, 0.22319686,\n",
              "        0.3103881 , 0.7223358 , 0.13318717, 0.5480639 , 0.5746088 ,\n",
              "        0.8996835 , 0.00946367, 0.5212307 , 0.6345445 , 0.1993283 ,\n",
              "        0.72942245, 0.54583454, 0.10756552, 0.6767061 , 0.6602763 ,\n",
              "        0.33695042, 0.60141766, 0.21062577, 0.8527372 , 0.44062173,\n",
              "        0.9485276 , 0.23752594, 0.81179297, 0.5263394 , 0.494308  ,\n",
              "        0.21612847, 0.8457197 , 0.8718841 , 0.3083862 , 0.6868038 ,\n",
              "        0.23764038, 0.7817228 , 0.9671384 , 0.06870162, 0.79873943,\n",
              "        0.66028714, 0.5871513 , 0.16461694, 0.7381023 , 0.32054043],\n",
              "       dtype=float32)>,\n",
              " TensorShape([50]))"
            ]
          },
          "metadata": {},
          "execution_count": 75
        }
      ]
    },
    {
      "cell_type": "markdown",
      "source": [
        "### One-Hot Encoding Tensors"
      ],
      "metadata": {
        "id": "Vuq5O3w4d1Eg"
      }
    },
    {
      "cell_type": "code",
      "source": [
        "some_list = [0, 1, 2, 3]\n",
        "\n",
        "#one hot encode our list of indices\n",
        "tf.one_hot(some_list, depth = 4)"
      ],
      "metadata": {
        "colab": {
          "base_uri": "https://localhost:8080/"
        },
        "id": "CVrP1CVheR-D",
        "outputId": "0e65bc93-30b6-4853-8d08-3ad585ee907b"
      },
      "execution_count": null,
      "outputs": [
        {
          "output_type": "execute_result",
          "data": {
            "text/plain": [
              "<tf.Tensor: shape=(4, 4), dtype=float32, numpy=\n",
              "array([[1., 0., 0., 0.],\n",
              "       [0., 1., 0., 0.],\n",
              "       [0., 0., 1., 0.],\n",
              "       [0., 0., 0., 1.]], dtype=float32)>"
            ]
          },
          "metadata": {},
          "execution_count": 76
        }
      ]
    },
    {
      "cell_type": "code",
      "source": [
        "some_other_list = [0,1,2,3,4,5,6]\n",
        "tf.one_hot(some_list, depth = 7)"
      ],
      "metadata": {
        "colab": {
          "base_uri": "https://localhost:8080/"
        },
        "id": "1NReEWXNgv0M",
        "outputId": "8cd99de8-1396-40ac-baaf-10d5936df42e"
      },
      "execution_count": null,
      "outputs": [
        {
          "output_type": "execute_result",
          "data": {
            "text/plain": [
              "<tf.Tensor: shape=(4, 7), dtype=float32, numpy=\n",
              "array([[1., 0., 0., 0., 0., 0., 0.],\n",
              "       [0., 1., 0., 0., 0., 0., 0.],\n",
              "       [0., 0., 1., 0., 0., 0., 0.],\n",
              "       [0., 0., 0., 1., 0., 0., 0.]], dtype=float32)>"
            ]
          },
          "metadata": {},
          "execution_count": 77
        }
      ]
    },
    {
      "cell_type": "code",
      "source": [
        "# Specify custom values for one hot encoding\n",
        "tf.one_hot(some_list, depth = 5, on_value = 4, off_value = 5)"
      ],
      "metadata": {
        "colab": {
          "base_uri": "https://localhost:8080/"
        },
        "id": "4BOovasce16F",
        "outputId": "65da11b7-8a2a-48f7-dcc6-ed66cdb9931d"
      },
      "execution_count": null,
      "outputs": [
        {
          "output_type": "execute_result",
          "data": {
            "text/plain": [
              "<tf.Tensor: shape=(4, 5), dtype=int32, numpy=\n",
              "array([[4, 5, 5, 5, 5],\n",
              "       [5, 4, 5, 5, 5],\n",
              "       [5, 5, 4, 5, 5],\n",
              "       [5, 5, 5, 4, 5]], dtype=int32)>"
            ]
          },
          "metadata": {},
          "execution_count": 78
        }
      ]
    },
    {
      "cell_type": "markdown",
      "source": [
        "### squaring, log, square_root"
      ],
      "metadata": {
        "id": "wrKV1gEcg8Ar"
      }
    },
    {
      "cell_type": "code",
      "source": [
        "H = tf.range(1,10)\n",
        "H"
      ],
      "metadata": {
        "colab": {
          "base_uri": "https://localhost:8080/"
        },
        "id": "P4JBdeMPhdt2",
        "outputId": "98f25b03-4fe5-441f-aba1-10ee15698dbe"
      },
      "execution_count": null,
      "outputs": [
        {
          "output_type": "execute_result",
          "data": {
            "text/plain": [
              "<tf.Tensor: shape=(9,), dtype=int32, numpy=array([1, 2, 3, 4, 5, 6, 7, 8, 9], dtype=int32)>"
            ]
          },
          "metadata": {},
          "execution_count": 79
        }
      ]
    },
    {
      "cell_type": "code",
      "source": [
        "tf.square(H)"
      ],
      "metadata": {
        "colab": {
          "base_uri": "https://localhost:8080/"
        },
        "id": "7hoo1I3ahiFz",
        "outputId": "6388cf5c-721a-4d9f-e627-d43776f3c516"
      },
      "execution_count": null,
      "outputs": [
        {
          "output_type": "execute_result",
          "data": {
            "text/plain": [
              "<tf.Tensor: shape=(9,), dtype=int32, numpy=array([ 1,  4,  9, 16, 25, 36, 49, 64, 81], dtype=int32)>"
            ]
          },
          "metadata": {},
          "execution_count": 80
        }
      ]
    },
    {
      "cell_type": "code",
      "source": [
        "tf.sqrt(tf.cast(H ,dtype = tf.float32))"
      ],
      "metadata": {
        "colab": {
          "base_uri": "https://localhost:8080/"
        },
        "id": "4Nm1xuWqhpQk",
        "outputId": "d595cec4-4c79-450b-9f44-dc11b6eb1b47"
      },
      "execution_count": null,
      "outputs": [
        {
          "output_type": "execute_result",
          "data": {
            "text/plain": [
              "<tf.Tensor: shape=(9,), dtype=float32, numpy=\n",
              "array([1.       , 1.4142135, 1.7320508, 2.       , 2.2360678, 2.4494896,\n",
              "       2.6457512, 2.828427 , 3.       ], dtype=float32)>"
            ]
          },
          "metadata": {},
          "execution_count": 81
        }
      ]
    },
    {
      "cell_type": "code",
      "source": [
        "tf.math.log(tf.cast(H, dtype = tf.float32))"
      ],
      "metadata": {
        "colab": {
          "base_uri": "https://localhost:8080/"
        },
        "id": "UZVhxS3smGW0",
        "outputId": "67ab2138-a9da-4d1c-a807-384a28ddd53d"
      },
      "execution_count": null,
      "outputs": [
        {
          "output_type": "execute_result",
          "data": {
            "text/plain": [
              "<tf.Tensor: shape=(9,), dtype=float32, numpy=\n",
              "array([0.       , 0.6931472, 1.0986123, 1.3862944, 1.609438 , 1.7917595,\n",
              "       1.9459102, 2.0794415, 2.1972246], dtype=float32)>"
            ]
          },
          "metadata": {},
          "execution_count": 82
        }
      ]
    },
    {
      "cell_type": "markdown",
      "source": [
        "### Tensors and Numpy\n",
        "\n",
        "TensorFlow interacts beautifully with Numpy\n",
        "\n"
      ],
      "metadata": {
        "id": "-CLjwsjnnycC"
      }
    },
    {
      "cell_type": "code",
      "source": [
        "#Create a tensor directly from a numpy array\n",
        "J = tf.constant(np.array([3., 7., 10.]))\n",
        "J"
      ],
      "metadata": {
        "colab": {
          "base_uri": "https://localhost:8080/"
        },
        "id": "Pd5oC862o7JP",
        "outputId": "fabbcad0-ecee-4146-e18a-e727fe728e1f"
      },
      "execution_count": null,
      "outputs": [
        {
          "output_type": "execute_result",
          "data": {
            "text/plain": [
              "<tf.Tensor: shape=(3,), dtype=float64, numpy=array([ 3.,  7., 10.])>"
            ]
          },
          "metadata": {},
          "execution_count": 83
        }
      ]
    },
    {
      "cell_type": "code",
      "source": [
        "type(np.array(J))"
      ],
      "metadata": {
        "colab": {
          "base_uri": "https://localhost:8080/"
        },
        "id": "Io08Ri_grLpr",
        "outputId": "20ad3bcd-4630-45cb-8a77-510ed44b7caf"
      },
      "execution_count": null,
      "outputs": [
        {
          "output_type": "execute_result",
          "data": {
            "text/plain": [
              "numpy.ndarray"
            ]
          },
          "metadata": {},
          "execution_count": 84
        }
      ]
    },
    {
      "cell_type": "code",
      "source": [
        "## IMPORTANT!!!!\n",
        "numpy_J = tf.constant(np.array([10., 27., 38., 44.]))\n",
        "tensor_J = tf.constant([2. ,4., 88., 82., 11.])\n",
        "#checking datatype of each\n",
        "numpy_J.dtype, tensor_J.dtype # numpy has the float64 data type!"
      ],
      "metadata": {
        "colab": {
          "base_uri": "https://localhost:8080/"
        },
        "id": "Cid5Fub0qVry",
        "outputId": "7fcc8d6e-7247-47ef-d2db-ee13f2421796"
      },
      "execution_count": null,
      "outputs": [
        {
          "output_type": "execute_result",
          "data": {
            "text/plain": [
              "(tf.float64, tf.float32)"
            ]
          },
          "metadata": {},
          "execution_count": 85
        }
      ]
    },
    {
      "cell_type": "markdown",
      "source": [
        "### FINDING ACCESS TO GPUs"
      ],
      "metadata": {
        "id": "M0L08EATrkAQ"
      }
    },
    {
      "cell_type": "code",
      "source": [
        "import tensorflow as tf\n",
        "tf.config.list_physical_devices(\"GPU\")"
      ],
      "metadata": {
        "colab": {
          "base_uri": "https://localhost:8080/"
        },
        "id": "N0rYoUWWr8nm",
        "outputId": "78730a4d-ba39-4328-d1b4-611808f95ad0"
      },
      "execution_count": null,
      "outputs": [
        {
          "output_type": "execute_result",
          "data": {
            "text/plain": [
              "[PhysicalDevice(name='/physical_device:GPU:0', device_type='GPU')]"
            ]
          },
          "metadata": {},
          "execution_count": 86
        }
      ]
    },
    {
      "cell_type": "code",
      "source": [
        "!nvidia-smi"
      ],
      "metadata": {
        "colab": {
          "base_uri": "https://localhost:8080/"
        },
        "id": "sgFMylyGs0v9",
        "outputId": "a0bf108d-fe13-4e2b-fc6a-7430c04a3625"
      },
      "execution_count": null,
      "outputs": [
        {
          "output_type": "stream",
          "name": "stdout",
          "text": [
            "Sun Jun  2 07:04:00 2024       \n",
            "+---------------------------------------------------------------------------------------+\n",
            "| NVIDIA-SMI 535.104.05             Driver Version: 535.104.05   CUDA Version: 12.2     |\n",
            "|-----------------------------------------+----------------------+----------------------+\n",
            "| GPU  Name                 Persistence-M | Bus-Id        Disp.A | Volatile Uncorr. ECC |\n",
            "| Fan  Temp   Perf          Pwr:Usage/Cap |         Memory-Usage | GPU-Util  Compute M. |\n",
            "|                                         |                      |               MIG M. |\n",
            "|=========================================+======================+======================|\n",
            "|   0  Tesla T4                       Off | 00000000:00:04.0 Off |                    0 |\n",
            "| N/A   50C    P0              27W /  70W |    107MiB / 15360MiB |      0%      Default |\n",
            "|                                         |                      |                  N/A |\n",
            "+-----------------------------------------+----------------------+----------------------+\n",
            "                                                                                         \n",
            "+---------------------------------------------------------------------------------------+\n",
            "| Processes:                                                                            |\n",
            "|  GPU   GI   CI        PID   Type   Process name                            GPU Memory |\n",
            "|        ID   ID                                                             Usage      |\n",
            "|=======================================================================================|\n",
            "+---------------------------------------------------------------------------------------+\n"
          ]
        }
      ]
    },
    {
      "cell_type": "markdown",
      "source": [
        "**NOTE:** If you have access to a CUDA-enabled GPU, TF will automatically use it whenever possible"
      ],
      "metadata": {
        "id": "UTJnMP4ntETC"
      }
    },
    {
      "cell_type": "markdown",
      "source": [
        "### EXERCISE."
      ],
      "metadata": {
        "id": "1XOiXK3tvwns"
      }
    },
    {
      "cell_type": "code",
      "source": [],
      "metadata": {
        "id": "S_FQZTEPwiQp"
      },
      "execution_count": null,
      "outputs": []
    }
  ]
}